{
 "cells": [
  {
   "cell_type": "markdown",
   "id": "90c34e34-2f15-4a5b-a59d-19103c61318b",
   "metadata": {},
   "source": [
    "# What is numpy?\n",
    "Numpy is a library used to work with arrays.It also has functions to work with algebra, fouririer transform, and matrices. It's and open source project so basically you can use it freely.\n",
    "\n",
    "The array object in Numpy is called ndarray , it provide many functions that make working with ndarray pretty easy.\n",
    "\n",
    "Once you have installed numpy lest's added to our code."
   ]
  },
  {
   "cell_type": "code",
   "execution_count": 1,
   "id": "9839a1b6-ec32-4228-b971-84052c106d08",
   "metadata": {
    "tags": []
   },
   "outputs": [],
   "source": [
    "import numpy as np"
   ]
  },
  {
   "cell_type": "markdown",
   "id": "94e1a8ef-2aa9-4af1-abf0-24e56d7e2433",
   "metadata": {},
   "source": [
    "Notice that is common to import numpy as **np**"
   ]
  },
  {
   "cell_type": "code",
   "execution_count": null,
   "id": "1ce10534-3b9d-4b7a-bc64-f9faf73a4372",
   "metadata": {},
   "outputs": [],
   "source": []
  }
 ],
 "metadata": {
  "kernelspec": {
   "display_name": "Python 3 (ipykernel)",
   "language": "python",
   "name": "python3"
  },
  "language_info": {
   "codemirror_mode": {
    "name": "ipython",
    "version": 3
   },
   "file_extension": ".py",
   "mimetype": "text/x-python",
   "name": "python",
   "nbconvert_exporter": "python",
   "pygments_lexer": "ipython3",
   "version": "3.10.6"
  }
 },
 "nbformat": 4,
 "nbformat_minor": 5
}
