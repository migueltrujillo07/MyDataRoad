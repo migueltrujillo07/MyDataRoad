{
 "cells": [
  {
   "cell_type": "markdown",
   "id": "5228234a-4840-49f4-88eb-71cf8d952ccd",
   "metadata": {},
   "source": [
    "# Loops "
   ]
  },
  {
   "cell_type": "code",
   "execution_count": 1,
   "id": "dba92512-fd6e-4cfa-8a32-d8bba661f0d9",
   "metadata": {},
   "outputs": [
    {
     "name": "stdout",
     "output_type": "stream",
     "text": [
      "7\n",
      "2\n",
      "4\n",
      "10\n"
     ]
    }
   ],
   "source": [
    "myList = [7,2,4,10]\n",
    "\n",
    "for num in myList:\n",
    "    print(num)"
   ]
  },
  {
   "cell_type": "code",
   "execution_count": 2,
   "id": "5268dad1-bbbd-43b4-8d94-c7c022162626",
   "metadata": {},
   "outputs": [
    {
     "name": "stdout",
     "output_type": "stream",
     "text": [
      "M\n",
      "y\n",
      " \n",
      "s\n",
      "t\n",
      "r\n",
      "i\n",
      "n\n",
      "g\n",
      " \n",
      "p\n",
      "e\n",
      "r\n",
      "r\n",
      "i\n",
      "n\n"
     ]
    }
   ],
   "source": [
    "myString = \"My string perrin\"\n",
    "\n",
    "for elm in myString:\n",
    "    print(elm)"
   ]
  },
  {
   "cell_type": "code",
   "execution_count": 10,
   "id": "32e139f7-a3b4-4a2e-abe6-39766664a732",
   "metadata": {},
   "outputs": [
    {
     "name": "stdout",
     "output_type": "stream",
     "text": [
      "4\n",
      "4\n",
      "4\n",
      "4\n",
      "4\n"
     ]
    }
   ],
   "source": [
    "\n",
    "for num in range(0,5,1): #(start,stop,step)\n",
    "     print(elm)"
   ]
  },
  {
   "cell_type": "code",
   "execution_count": null,
   "id": "57eeaaf3-52da-4616-9af8-bf81a976d0c6",
   "metadata": {},
   "outputs": [],
   "source": []
  }
 ],
 "metadata": {
  "kernelspec": {
   "display_name": "Python 3 (ipykernel)",
   "language": "python",
   "name": "python3"
  },
  "language_info": {
   "codemirror_mode": {
    "name": "ipython",
    "version": 3
   },
   "file_extension": ".py",
   "mimetype": "text/x-python",
   "name": "python",
   "nbconvert_exporter": "python",
   "pygments_lexer": "ipython3",
   "version": "3.10.6"
  }
 },
 "nbformat": 4,
 "nbformat_minor": 5
}
