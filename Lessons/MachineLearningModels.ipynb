{
 "cells": [
  {
   "cell_type": "markdown",
   "id": "463e9539-b2a3-4885-8b98-a2a9483eb87c",
   "metadata": {},
   "source": [
    "# Machine Learning Models\n",
    "The model is the core component of machine learning, and ultimately what we are trying to build. A model might estimate how old a person is from a photo, predict what you might like to see on social media, or decide where a robotic arm should move. In our scenario, we want to build a model that can estimate the best boot size for a dog based on their harness size.\n",
    "\n",
    "Models can be built in many ways. For example, a traditional model that simulates how an airplane flies is built by people, using knowledge of physics and engineering. Machine-learning models are special; rather than being edited by people so that they work well, machine learning models are shaped by data. They learn from experience."
   ]
  },
  {
   "cell_type": "markdown",
   "id": "19f4fa76-f4c3-463e-9001-56d561ebc929",
   "metadata": {},
   "source": [
    "## Select a Model\n",
    "There are many model types, some simple and some complex.\n",
    "\n",
    "Like all code, simpler models are often the most reliable and easy to understand, while complex models can potentially perform impressive feats. Which kind of model you should choose depends on your goal. For example, medical scientists often work with models that are relatively simple, because they are reliable and intuitive. By contrast, AI-based robots typically rely on very complex models.\n",
    "\n",
    "The first step in machine learning is selecting the kind of model that you'd like to use. This means we're choosing a model based on its internal logic.\n",
    "\n",
    "## Parameters are discovered during trainig \n",
    "The human designer doesn't select parameter values. Instead, parameter values are set to an initial guess, then adjusted during an automated learning process called training.\n",
    "\n"
   ]
  }
 ],
 "metadata": {
  "kernelspec": {
   "display_name": "Python 3 (ipykernel)",
   "language": "python",
   "name": "python3"
  },
  "language_info": {
   "codemirror_mode": {
    "name": "ipython",
    "version": 3
   },
   "file_extension": ".py",
   "mimetype": "text/x-python",
   "name": "python",
   "nbconvert_exporter": "python",
   "pygments_lexer": "ipython3",
   "version": "3.10.6"
  }
 },
 "nbformat": 4,
 "nbformat_minor": 5
}
