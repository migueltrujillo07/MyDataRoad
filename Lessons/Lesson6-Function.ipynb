{
 "cells": [
  {
   "cell_type": "markdown",
   "id": "fb6d809f-19f3-4790-8641-40eb1f06bbae",
   "metadata": {},
   "source": [
    "# Functions"
   ]
  },
  {
   "cell_type": "code",
   "execution_count": 1,
   "id": "2baf71b1-0565-4e0b-9803-a567a45db065",
   "metadata": {},
   "outputs": [
    {
     "name": "stdout",
     "output_type": "stream",
     "text": [
      "20\n"
     ]
    }
   ],
   "source": [
    "def displayPerimeter():\n",
    "    length = 6\n",
    "    width = 4\n",
    "    perimeter = 2*(length + width)\n",
    "    print(perimeter)\n",
    "    \n",
    "displayPerimeter()"
   ]
  },
  {
   "cell_type": "code",
   "execution_count": 4,
   "id": "bdb47126-3d5b-4cbf-ba5a-8c7a7b5625f5",
   "metadata": {},
   "outputs": [
    {
     "name": "stdout",
     "output_type": "stream",
     "text": [
      "18\n",
      "42\n",
      "8\n"
     ]
    }
   ],
   "source": [
    "def displayPerimeter(length, width):\n",
    "    perimeter = 2 * (length + width)\n",
    "    print(perimeter)\n",
    "    \n",
    "displayPerimeter(5,4)\n",
    "displayPerimeter(10,11)\n",
    "displayPerimeter(2,2)"
   ]
  },
  {
   "cell_type": "code",
   "execution_count": 5,
   "id": "3d87d1e5-efbb-4186-a890-b0265b615698",
   "metadata": {},
   "outputs": [
    {
     "data": {
      "text/plain": [
       "4"
      ]
     },
     "execution_count": 5,
     "metadata": {},
     "output_type": "execute_result"
    }
   ],
   "source": [
    "def sumCustom(a,b):\n",
    "    calc = a + b\n",
    "    return a + b\n",
    "\n",
    "sumCustom(2,2)"
   ]
  },
  {
   "cell_type": "markdown",
   "id": "02e0b205-a0da-49dc-9e67-93ab59ffe5f7",
   "metadata": {},
   "source": [
    "# String Methods\n",
    "**upper** It returns an uppercase string\n",
    "\n",
    "**lower** It returns a lowercase string\n",
    "\n",
    "**capitalize** capitalizes the first letter\n",
    "\n",
    "**count** returns occurrences of substring in string\n",
    "\n",
    "**replace** replaces a character or a substring inside your string"
   ]
  },
  {
   "cell_type": "markdown",
   "id": "2ca0be1f-1461-4787-a026-89245599b007",
   "metadata": {},
   "source": [
    "# Collections Methods\n",
    "**sort** sort the list (from min to max with numericals. alphabetical order with strings)\n",
    "\n",
    "**pop** removes the element at the specified position, and displays it for the list. It also removes the element with the specified key and displays it for the dict.\n",
    "\n",
    "**values** returns a list of all the values in the dictionary"
   ]
  },
  {
   "cell_type": "code",
   "execution_count": null,
   "id": "05a6d66f-5951-42c9-88ab-409b1a965ca8",
   "metadata": {},
   "outputs": [],
   "source": []
  }
 ],
 "metadata": {
  "kernelspec": {
   "display_name": "Python 3 (ipykernel)",
   "language": "python",
   "name": "python3"
  },
  "language_info": {
   "codemirror_mode": {
    "name": "ipython",
    "version": 3
   },
   "file_extension": ".py",
   "mimetype": "text/x-python",
   "name": "python",
   "nbconvert_exporter": "python",
   "pygments_lexer": "ipython3",
   "version": "3.10.6"
  }
 },
 "nbformat": 4,
 "nbformat_minor": 5
}
