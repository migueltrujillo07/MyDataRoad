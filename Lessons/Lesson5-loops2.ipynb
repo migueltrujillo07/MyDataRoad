{
 "cells": [
  {
   "cell_type": "markdown",
   "id": "5228234a-4840-49f4-88eb-71cf8d952ccd",
   "metadata": {},
   "source": [
    "# Loops "
   ]
  },
  {
   "cell_type": "code",
   "execution_count": 1,
   "id": "dba92512-fd6e-4cfa-8a32-d8bba661f0d9",
   "metadata": {},
   "outputs": [
    {
     "name": "stdout",
     "output_type": "stream",
     "text": [
      "7\n",
      "2\n",
      "4\n",
      "10\n"
     ]
    }
   ],
   "source": [
    "myList = [7,2,4,10]\n",
    "\n",
    "for num in myList:\n",
    "    print(num)"
   ]
  },
  {
   "cell_type": "code",
   "execution_count": 2,
   "id": "5268dad1-bbbd-43b4-8d94-c7c022162626",
   "metadata": {},
   "outputs": [
    {
     "name": "stdout",
     "output_type": "stream",
     "text": [
      "M\n",
      "y\n",
      " \n",
      "s\n",
      "t\n",
      "r\n",
      "i\n",
      "n\n",
      "g\n",
      " \n",
      "p\n",
      "e\n",
      "r\n",
      "r\n",
      "i\n",
      "n\n"
     ]
    }
   ],
   "source": [
    "myString = \"My string perrin\"\n",
    "\n",
    "for elm in myString:\n",
    "    print(elm)"
   ]
  },
  {
   "cell_type": "code",
   "execution_count": 10,
   "id": "32e139f7-a3b4-4a2e-abe6-39766664a732",
   "metadata": {},
   "outputs": [
    {
     "name": "stdout",
     "output_type": "stream",
     "text": [
      "4\n",
      "4\n",
      "4\n",
      "4\n",
      "4\n"
     ]
    }
   ],
   "source": [
    "\n",
    "for num in range(0,5,1): #(start,stop,step)\n",
    "     print(elm)"
   ]
  },
  {
   "cell_type": "markdown",
   "id": "c5a37584-9e7d-4a4b-bebe-d0fdd7384484",
   "metadata": {},
   "source": [
    "# While Loop\n",
    "1. The program verifies that **LogicalExpression** is **True**\n",
    "2. If it is **false**, the instructions are ignored. You don't even enter the body of the loop located below:\n",
    "3. If it is **true**, the list of statements below : are executed.\n",
    "4. Once the instruccions are executed, return to step one.\n"
   ]
  },
  {
   "cell_type": "code",
   "execution_count": 11,
   "id": "4c0ed9b4-4303-4186-8b0f-510bf916f149",
   "metadata": {},
   "outputs": [
    {
     "name": "stdout",
     "output_type": "stream",
     "text": [
      "I planted 1 trees\n",
      "I planted 2 trees\n",
      "I planted 3 trees\n",
      "I planted 4 trees\n",
      "I planted 5 trees\n",
      "I planted 6 trees\n",
      "I planted 7 trees\n",
      "I planted 8 trees\n",
      "I planted 9 trees\n",
      "I planted 10 trees\n",
      "I have a forest =D\n"
     ]
    }
   ],
   "source": [
    "numbersOfTrees = 0\n",
    "\n",
    "while numbersOfTrees < 10:\n",
    "    numbersOfTrees += 1\n",
    "    print('I planted', numbersOfTrees, \"trees\")\n",
    "    \n",
    "print(\"I have a forest =D\")"
   ]
  },
  {
   "cell_type": "code",
   "execution_count": 2,
   "id": "dd1aeb3a-93a1-4be0-9e3e-be8b14e11050",
   "metadata": {},
   "outputs": [
    {
     "name": "stdout",
     "output_type": "stream",
     "text": [
      "Stay awake..... Forever\n",
      "Stay awake..... Forever\n",
      "Stay awake..... Forever\n",
      "Stay awake..... Forever\n",
      "Stay awake..... Forever\n",
      "Stay awake..... Forever\n",
      "Stay awake..... Forever\n",
      "Stay awake..... Forever\n",
      "Stay awake..... Forever\n",
      "Stay awake..... Forever\n",
      "Stay awake..... Forever\n",
      "Stay awake..... Forever\n",
      "Stay awake..... Forever\n",
      "Stay awake..... Forever\n",
      "Stay awake..... Forever\n",
      "Go to sleep!\n"
     ]
    }
   ],
   "source": [
    "theSunIsUp = True\n",
    "num = 0\n",
    "while theSunIsUp:\n",
    "    print(\"Stay awake..... Forever\")\n",
    "    num  += 1\n",
    "    if num == 15:\n",
    "        break\n",
    "print(\"Go to sleep!\")"
   ]
  },
  {
   "cell_type": "markdown",
   "id": "b2b5b65b-6f69-4f00-9e48-92933de7f9b2",
   "metadata": {},
   "source": [
    "# Skipping some instruccions inside a loop "
   ]
  },
  {
   "cell_type": "code",
   "execution_count": 5,
   "id": "07941c83-6705-4b4c-929b-cb2fd85d19e8",
   "metadata": {},
   "outputs": [
    {
     "name": "stdout",
     "output_type": "stream",
     "text": [
      "I have an  orange !\n"
     ]
    }
   ],
   "source": [
    "basketFruit = [\"apple\", \"orange\", \"banana\"]\n",
    "for fruits in basketFruit:\n",
    "    if fruits == \"orange\":\n",
    "        print(\"I have an \", fruits, \"!\")\n",
    "        break"
   ]
  },
  {
   "cell_type": "markdown",
   "id": "f970c214-2715-42df-ba7f-cba29f9c7a24",
   "metadata": {},
   "source": [
    "**break** we use it when we want to interrup an excecution sequence"
   ]
  },
  {
   "cell_type": "code",
   "execution_count": 3,
   "id": "f1946cf0-4b4f-4e60-8a50-e4a43acf15fe",
   "metadata": {},
   "outputs": [
    {
     "name": "stdout",
     "output_type": "stream",
     "text": [
      "2\n",
      "5\n"
     ]
    }
   ],
   "source": [
    "for i in range(10):\n",
    "    if i == 2 or i == 5:\n",
    "        print(i)\n",
    "        continue"
   ]
  },
  {
   "cell_type": "code",
   "execution_count": null,
   "id": "aef093a6-8cc6-43aa-aa34-f765a499cf1f",
   "metadata": {},
   "outputs": [],
   "source": []
  }
 ],
 "metadata": {
  "kernelspec": {
   "display_name": "Python 3 (ipykernel)",
   "language": "python",
   "name": "python3"
  },
  "language_info": {
   "codemirror_mode": {
    "name": "ipython",
    "version": 3
   },
   "file_extension": ".py",
   "mimetype": "text/x-python",
   "name": "python",
   "nbconvert_exporter": "python",
   "pygments_lexer": "ipython3",
   "version": "3.10.6"
  }
 },
 "nbformat": 4,
 "nbformat_minor": 5
}
