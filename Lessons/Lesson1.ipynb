{
 "cells": [
  {
   "cell_type": "code",
   "execution_count": 1,
   "id": "51b92325-d750-4252-8b8c-879bf59dc0b1",
   "metadata": {},
   "outputs": [
    {
     "name": "stdout",
     "output_type": "stream",
     "text": [
      "Hola Mundo\n"
     ]
    }
   ],
   "source": [
    "print(\"Hola Mundo\")"
   ]
  },
  {
   "cell_type": "markdown",
   "id": "8faf92c2-3cce-45b6-9303-4f0753aaba36",
   "metadata": {},
   "source": [
    "* Hello Panas\n",
    "    * Nose que haga esto cd"
   ]
  },
  {
   "cell_type": "code",
   "execution_count": 3,
   "id": "d6c68516-29b8-43a2-b533-7f88f7dfa5b1",
   "metadata": {},
   "outputs": [
    {
     "name": "stdout",
     "output_type": "stream",
     "text": [
      "500\n"
     ]
    }
   ],
   "source": [
    "ongoingAllowance = 500\n",
    "savings = 1000\n",
    "print(ongoingAllowance % savings)"
   ]
  },
  {
   "cell_type": "code",
   "execution_count": 5,
   "id": "72358fc8-1a97-4414-a64a-d2acca2c5df9",
   "metadata": {},
   "outputs": [
    {
     "name": "stdout",
     "output_type": "stream",
     "text": [
      "5\n"
     ]
    }
   ],
   "source": [
    "num_1 = 5\n",
    "num_2 = 10\n",
    "result = num_1 % num_2\n",
    "print(result)"
   ]
  },
  {
   "cell_type": "code",
   "execution_count": 8,
   "id": "ca7008e2-e356-41f3-bb5f-901a18b8275a",
   "metadata": {},
   "outputs": [
    {
     "name": "stdout",
     "output_type": "stream",
     "text": [
      "1200\n",
      "1300\n"
     ]
    }
   ],
   "source": [
    "savings = savings + 100\n",
    "print(savings)\n",
    "savings += 100\n",
    "print(savings)"
   ]
  },
  {
   "cell_type": "code",
   "execution_count": 9,
   "id": "2e8f6ddc-28b2-4de5-b76d-53db430b60f3",
   "metadata": {},
   "outputs": [],
   "source": [
    "text= \"A wonderful string that consist of multiple characters\"\n",
    "numberOfVwels = 0\n",
    "percentageOfVawels = 0.0"
   ]
  },
  {
   "cell_type": "code",
   "execution_count": null,
   "id": "5d1f0a7d-2cd3-46e7-a9e0-de1074c85ffb",
   "metadata": {},
   "outputs": [],
   "source": []
  }
 ],
 "metadata": {
  "kernelspec": {
   "display_name": "Python 3 (ipykernel)",
   "language": "python",
   "name": "python3"
  },
  "language_info": {
   "codemirror_mode": {
    "name": "ipython",
    "version": 3
   },
   "file_extension": ".py",
   "mimetype": "text/x-python",
   "name": "python",
   "nbconvert_exporter": "python",
   "pygments_lexer": "ipython3",
   "version": "3.10.6"
  }
 },
 "nbformat": 4,
 "nbformat_minor": 5
}
