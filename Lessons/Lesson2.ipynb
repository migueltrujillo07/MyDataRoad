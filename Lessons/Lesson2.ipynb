{
 "cells": [
  {
   "cell_type": "markdown",
   "id": "77cc628b-abd1-47f8-bde7-a365ca819f8f",
   "metadata": {},
   "source": [
    "# Objects in Python"
   ]
  },
  {
   "cell_type": "markdown",
   "id": "2ca5e38c-8c8f-4e83-a635-3f65f3f0c8a1",
   "metadata": {},
   "source": [
    "Firts lets created a class in python\n"
   ]
  },
  {
   "cell_type": "code",
   "execution_count": 20,
   "id": "a30788a5-9096-49b6-aa69-3a8b40d7bb38",
   "metadata": {},
   "outputs": [],
   "source": [
    "class book:\n",
    "     def __init__(self,title,author, numberOfPages, publisher):\n",
    "            self.title = title\n",
    "            self.author = author\n",
    "            self.numberOfPages = numberOfPages\n",
    "            self.publisher = publisher"
   ]
  },
  {
   "cell_type": "code",
   "execution_count": 22,
   "id": "1249ba0c-0ef4-4bbf-a752-c332d6508c1d",
   "metadata": {},
   "outputs": [
    {
     "name": "stdout",
     "output_type": "stream",
     "text": [
      "Percy Jackson\n",
      "Harry Potter\n"
     ]
    }
   ],
   "source": [
    "myBook = book(\"Percy Jackson\", \"Rick Riordan\", 450, \"Salamandra\")\n",
    "print(myBook.title)\n",
    "myBook.title = \"Harry Potter\"\n",
    "print(myBook.title)"
   ]
  },
  {
   "cell_type": "markdown",
   "id": "824c8e0f-979f-46f1-868c-ac7ddb32c4fb",
   "metadata": {},
   "source": [
    "# Diccionaries In Python"
   ]
  },
  {
   "cell_type": "markdown",
   "id": "db140ef0-386d-45ea-8eb9-710dee121bb9",
   "metadata": {},
   "source": [
    "## Creating a List"
   ]
  },
  {
   "cell_type": "code",
   "execution_count": 30,
   "id": "b17c761e-e6ed-4051-9953-fc95ab09d0df",
   "metadata": {},
   "outputs": [],
   "source": [
    "basketOfFruits =['Orange', 'apples', 'grapes','mango']"
   ]
  },
  {
   "cell_type": "code",
   "execution_count": 31,
   "id": "e436daad-1d24-45b2-bd06-778d2bfd2cc2",
   "metadata": {},
   "outputs": [
    {
     "name": "stdout",
     "output_type": "stream",
     "text": [
      "['Orange', 'apples', 'grapes', 'mango']\n"
     ]
    }
   ],
   "source": [
    "print(basketOfFruits)"
   ]
  },
  {
   "cell_type": "code",
   "execution_count": 33,
   "id": "c1659b3b-2a0a-414a-871f-b49e3b2f25aa",
   "metadata": {},
   "outputs": [
    {
     "name": "stdout",
     "output_type": "stream",
     "text": [
      "['Orange', 'apples', 'banana', 'mango']\n"
     ]
    }
   ],
   "source": [
    "basketOfFruits[2]= \"banana\"\n",
    "print(basketOfFruits)"
   ]
  },
  {
   "cell_type": "markdown",
   "id": "4f2e2dca-91c8-44db-8e4c-5b071f42d591",
   "metadata": {},
   "source": [
    "We can created a list of numbers"
   ]
  },
  {
   "cell_type": "code",
   "execution_count": 34,
   "id": "c89b7312-0be5-4ed4-8160-d87678405ac8",
   "metadata": {},
   "outputs": [
    {
     "name": "stdout",
     "output_type": "stream",
     "text": [
      "[23, 43, 60, 10]\n"
     ]
    }
   ],
   "source": [
    "list = [23,43,60,10]\n",
    "print(list)"
   ]
  },
  {
   "cell_type": "markdown",
   "id": "02e6ab75-4811-4640-90be-c325a0350d99",
   "metadata": {},
   "source": [
    "Lets created a list inside in a list xd"
   ]
  },
  {
   "cell_type": "code",
   "execution_count": 38,
   "id": "49870857-d2f5-4702-98da-94db6f3876f8",
   "metadata": {},
   "outputs": [
    {
     "name": "stdout",
     "output_type": "stream",
     "text": [
      "['gg another list', 44, 10.6]\n"
     ]
    }
   ],
   "source": [
    "lstInlst = [4, 10.0, \"Miguel\", [\"gg another list\", 44, 10.6]]\n",
    "print(lstInlst[3])"
   ]
  },
  {
   "cell_type": "code",
   "execution_count": null,
   "id": "1a69a782-bee7-4189-9df8-75115aaa7fb5",
   "metadata": {},
   "outputs": [],
   "source": []
  }
 ],
 "metadata": {
  "kernelspec": {
   "display_name": "Python 3 (ipykernel)",
   "language": "python",
   "name": "python3"
  },
  "language_info": {
   "codemirror_mode": {
    "name": "ipython",
    "version": 3
   },
   "file_extension": ".py",
   "mimetype": "text/x-python",
   "name": "python",
   "nbconvert_exporter": "python",
   "pygments_lexer": "ipython3",
   "version": "3.10.6"
  }
 },
 "nbformat": 4,
 "nbformat_minor": 5
}
