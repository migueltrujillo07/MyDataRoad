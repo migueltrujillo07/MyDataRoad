{
 "cells": [
  {
   "cell_type": "markdown",
   "id": "41357436-d928-461c-8de8-7caefc9d578b",
   "metadata": {},
   "source": [
    "# In this notebook we will see the loops, I hope so"
   ]
  },
  {
   "cell_type": "code",
   "execution_count": 1,
   "id": "016c2b50-9859-42f5-9ff7-bb5256ce643a",
   "metadata": {},
   "outputs": [
    {
     "name": "stdin",
     "output_type": "stream",
     "text": [
      "Ey u what ur name? miguel\n"
     ]
    },
    {
     "name": "stdout",
     "output_type": "stream",
     "text": [
      "Ey jey what's up miguel\n"
     ]
    }
   ],
   "source": [
    "urname = input(\"Ey u what ur name?\")\n",
    "print(f\"Ey jey what's up {urname}\")"
   ]
  },
  {
   "cell_type": "code",
   "execution_count": 3,
   "id": "07436dbd-7124-4b0e-b5b5-7e16fc2b9fbe",
   "metadata": {},
   "outputs": [
    {
     "name": "stdin",
     "output_type": "stream",
     "text": [
      "What's your name?  migue\n"
     ]
    },
    {
     "name": "stdout",
     "output_type": "stream",
     "text": [
      "Hello migue\n"
     ]
    }
   ],
   "source": [
    "name = input(\"What's your name? \")\n",
    "\n",
    "if len(name) == 0:\n",
    "    print(\"I asked you your name\")\n",
    "else:\n",
    "    print(\"Hello\", name)"
   ]
  },
  {
   "cell_type": "markdown",
   "id": "183303a8-f25d-40c3-89d5-29431451d872",
   "metadata": {},
   "source": [
    "# Booleans values"
   ]
  },
  {
   "cell_type": "markdown",
   "id": "c2441fd7-aedb-480b-ba88-60395119b7e1",
   "metadata": {},
   "source": [
    "The bolean values just have one value it could be true or false\n"
   ]
  },
  {
   "cell_type": "code",
   "execution_count": 4,
   "id": "6ea895f2-ea9e-4d61-9d09-4021a52eddfe",
   "metadata": {},
   "outputs": [],
   "source": [
    "ImMexican = True\n",
    "ImWhite = False\n"
   ]
  },
  {
   "cell_type": "markdown",
   "id": "9002273c-92c7-4b90-b41c-12200e7fd245",
   "metadata": {},
   "source": [
    "# Method \"startwith\""
   ]
  },
  {
   "cell_type": "code",
   "execution_count": 6,
   "id": "ce9c6782-3408-4ef7-b0a6-23b05afbfb30",
   "metadata": {},
   "outputs": [
    {
     "data": {
      "text/plain": [
       "True"
      ]
     },
     "execution_count": 6,
     "metadata": {},
     "output_type": "execute_result"
    }
   ],
   "source": [
    "wheather = \"The weather is good\"\n",
    "wheather.startswith(\"The weather\")\n"
   ]
  },
  {
   "cell_type": "markdown",
   "id": "7711f699-9f39-4794-bbe7-d413cac88079",
   "metadata": {},
   "source": [
    "# Copararison Operadors"
   ]
  },
  {
   "cell_type": "code",
   "execution_count": 7,
   "id": "78e2e551-d1e5-4dd3-a28b-a45bedc10bda",
   "metadata": {},
   "outputs": [
    {
     "data": {
      "text/plain": [
       "True"
      ]
     },
     "execution_count": 7,
     "metadata": {},
     "output_type": "execute_result"
    }
   ],
   "source": [
    "2 == 2 # -> True\n",
    "2 == 3 # -> False\n",
    "4 != 4 # Not equal-> False\n",
    "4 != 5 # -> True\n",
    "1 < 2 # -> True\n",
    "1 < 1 # -> False\n",
    "1 <= 1 # -> True\n",
    "3 > 4 # Fasle\n",
    "5 > 4 # True\n",
    "5 >= 4 # True"
   ]
  },
  {
   "cell_type": "markdown",
   "id": "e2b415bc-9a39-4f10-9408-b377f8d9a544",
   "metadata": {},
   "source": [
    "# If statement"
   ]
  },
  {
   "cell_type": "code",
   "execution_count": 8,
   "id": "bfde92fd-9db1-4269-9d7a-5d0bd57c5f8a",
   "metadata": {},
   "outputs": [
    {
     "name": "stdout",
     "output_type": "stream",
     "text": [
      "Do somethig only of age id at least 21\n"
     ]
    }
   ],
   "source": [
    "age = 21\n",
    "if age >= 21:\n",
    "    print(\"Do somethig only of age id at least 21\")"
   ]
  },
  {
   "cell_type": "markdown",
   "id": "50e4b623-0a63-4763-b26e-42380fbb9931",
   "metadata": {},
   "source": [
    "# Logical Operators"
   ]
  },
  {
   "cell_type": "markdown",
   "id": "ca4ab033-cd0e-48e6-ad3c-ffc618d59f1e",
   "metadata": {},
   "source": [
    "## **AND**"
   ]
  },
  {
   "cell_type": "markdown",
   "id": "141c2bff-935e-4455-ab34-e8bea2df40b7",
   "metadata": {},
   "source": [
    "The result is true when all the participating parts are true (multiplication)"
   ]
  },
  {
   "cell_type": "markdown",
   "id": "4116ff2e-6f24-481b-bcb6-9d799f820d51",
   "metadata": {},
   "source": [
    "## OR "
   ]
  },
  {
   "cell_type": "markdown",
   "id": "09630cbf-2a4a-4a3e-9435-0c4eb56f9e41",
   "metadata": {},
   "source": [
    "The result is true when **At least one** of the participating parts is true"
   ]
  },
  {
   "cell_type": "markdown",
   "id": "39585a82-38d6-416d-bef0-72b56cca74ce",
   "metadata": {},
   "source": [
    "## NOT"
   ]
  },
  {
   "cell_type": "markdown",
   "id": "0a443ee2-dbdd-4220-a0a9-0f5d245b973c",
   "metadata": {},
   "source": [
    "It simply inverts the given expresion"
   ]
  },
  {
   "cell_type": "code",
   "execution_count": 11,
   "id": "b52bf526-f4c3-4128-9820-6fa9e0b48c92",
   "metadata": {},
   "outputs": [
    {
     "data": {
      "text/plain": [
       "True"
      ]
     },
     "execution_count": 11,
     "metadata": {},
     "output_type": "execute_result"
    }
   ],
   "source": [
    "True and True #-> True\n",
    "True and False #-> False\n",
    "False and False # -> True\n",
    "True or True #-> True\n",
    "False or True #-> True\n",
    "False or False #-> False\n",
    "not(True) #-> False\n",
    "not(False) #-> True"
   ]
  },
  {
   "cell_type": "markdown",
   "id": "438c12c3-b6be-4c05-b1d6-77b0c6ff2c7d",
   "metadata": {},
   "source": [
    "It doesnt just have two expressions It could be more than 2 example:"
   ]
  },
  {
   "cell_type": "code",
   "execution_count": 14,
   "id": "62dfc377-c4fb-437c-9d7d-aaaea72d73a4",
   "metadata": {},
   "outputs": [
    {
     "data": {
      "text/plain": [
       "False"
      ]
     },
     "execution_count": 14,
     "metadata": {},
     "output_type": "execute_result"
    }
   ],
   "source": [
    "True and True and True # True\n",
    "True and False and True # False\n",
    "True or False or False # True\n",
    "False or False or False # False"
   ]
  },
  {
   "cell_type": "code",
   "execution_count": null,
   "id": "44638465-0b61-4e53-89e6-f945a4aeec8b",
   "metadata": {},
   "outputs": [],
   "source": []
  }
 ],
 "metadata": {
  "kernelspec": {
   "display_name": "Python 3 (ipykernel)",
   "language": "python",
   "name": "python3"
  },
  "language_info": {
   "codemirror_mode": {
    "name": "ipython",
    "version": 3
   },
   "file_extension": ".py",
   "mimetype": "text/x-python",
   "name": "python",
   "nbconvert_exporter": "python",
   "pygments_lexer": "ipython3",
   "version": "3.10.6"
  }
 },
 "nbformat": 4,
 "nbformat_minor": 5
}
