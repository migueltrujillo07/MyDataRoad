{
 "cells": [
  {
   "cell_type": "markdown",
   "id": "41357436-d928-461c-8de8-7caefc9d578b",
   "metadata": {},
   "source": [
    "# In this notebook we will see the loops, I hope so"
   ]
  },
  {
   "cell_type": "code",
   "execution_count": 1,
   "id": "016c2b50-9859-42f5-9ff7-bb5256ce643a",
   "metadata": {},
   "outputs": [
    {
     "name": "stdin",
     "output_type": "stream",
     "text": [
      "Ey u what ur name? miguel\n"
     ]
    },
    {
     "name": "stdout",
     "output_type": "stream",
     "text": [
      "Ey jey what's up miguel\n"
     ]
    }
   ],
   "source": [
    "urname = input(\"Ey u what ur name?\")\n",
    "print(f\"Ey jey what's up {urname}\")"
   ]
  },
  {
   "cell_type": "code",
   "execution_count": 3,
   "id": "07436dbd-7124-4b0e-b5b5-7e16fc2b9fbe",
   "metadata": {},
   "outputs": [
    {
     "name": "stdin",
     "output_type": "stream",
     "text": [
      "What's your name?  migue\n"
     ]
    },
    {
     "name": "stdout",
     "output_type": "stream",
     "text": [
      "Hello migue\n"
     ]
    }
   ],
   "source": [
    "name = input(\"What's your name? \")\n",
    "\n",
    "if len(name) == 0:\n",
    "    print(\"I asked you your name\")\n",
    "else:\n",
    "    print(\"Hello\", name)"
   ]
  },
  {
   "cell_type": "markdown",
   "id": "183303a8-f25d-40c3-89d5-29431451d872",
   "metadata": {},
   "source": [
    "# Booleans values"
   ]
  },
  {
   "cell_type": "markdown",
   "id": "c2441fd7-aedb-480b-ba88-60395119b7e1",
   "metadata": {},
   "source": [
    "The bolean values just have one value it could be true or false\n"
   ]
  },
  {
   "cell_type": "code",
   "execution_count": 4,
   "id": "6ea895f2-ea9e-4d61-9d09-4021a52eddfe",
   "metadata": {},
   "outputs": [],
   "source": [
    "ImMexican = True\n",
    "ImWhite = False\n"
   ]
  },
  {
   "cell_type": "markdown",
   "id": "9002273c-92c7-4b90-b41c-12200e7fd245",
   "metadata": {},
   "source": [
    "# Method \"startwith\""
   ]
  },
  {
   "cell_type": "code",
   "execution_count": 6,
   "id": "ce9c6782-3408-4ef7-b0a6-23b05afbfb30",
   "metadata": {},
   "outputs": [
    {
     "data": {
      "text/plain": [
       "True"
      ]
     },
     "execution_count": 6,
     "metadata": {},
     "output_type": "execute_result"
    }
   ],
   "source": [
    "wheather = \"The weather is good\"\n",
    "wheather.startswith(\"The weather\")\n"
   ]
  },
  {
   "cell_type": "code",
   "execution_count": null,
   "id": "bc8e316f-9d9c-4613-a43b-d91de2ad9574",
   "metadata": {},
   "outputs": [],
   "source": []
  }
 ],
 "metadata": {
  "kernelspec": {
   "display_name": "Python 3 (ipykernel)",
   "language": "python",
   "name": "python3"
  },
  "language_info": {
   "codemirror_mode": {
    "name": "ipython",
    "version": 3
   },
   "file_extension": ".py",
   "mimetype": "text/x-python",
   "name": "python",
   "nbconvert_exporter": "python",
   "pygments_lexer": "ipython3",
   "version": "3.10.6"
  }
 },
 "nbformat": 4,
 "nbformat_minor": 5
}
