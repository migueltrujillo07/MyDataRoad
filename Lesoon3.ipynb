{
 "cells": [
  {
   "cell_type": "markdown",
   "id": "93237251-3698-42c8-83fd-fc4334977d6e",
   "metadata": {},
   "source": [
    "# Python List Methods: Add and Delete an element"
   ]
  },
  {
   "cell_type": "code",
   "execution_count": 4,
   "id": "ccd73b03-f82c-490b-a972-7ea9616cb407",
   "metadata": {},
   "outputs": [
    {
     "name": "stdout",
     "output_type": "stream",
     "text": [
      "[7, 8]\n"
     ]
    }
   ],
   "source": [
    "list = []\n",
    "list.append(7)\n",
    "list.append(8) \n",
    "print(list)\n"
   ]
  },
  {
   "cell_type": "code",
   "execution_count": 10,
   "id": "f761bca8-3b6b-4656-b580-231d8f7e2c69",
   "metadata": {},
   "outputs": [
    {
     "name": "stdout",
     "output_type": "stream",
     "text": [
      "[7, 5]\n",
      "[7, 12, 5]\n",
      "2\n",
      "1\n"
     ]
    }
   ],
   "source": [
    "MySecondList = []\n",
    "MySecondList.append(7)\n",
    "MySecondList.append(5)\n",
    "print(MySecondList)\n",
    "MySecondList.insert(1,12)\n",
    "print(MySecondList)\n",
    "s = MySecondList.index(5)\n",
    "print(s)\n",
    "MySecondList.remove(12)\n",
    "s = MySecondList.index(5)\n",
    "print(s)\n"
   ]
  },
  {
   "cell_type": "code",
   "execution_count": null,
   "id": "5a9bab3f-6ab5-4828-b40f-6456426639e0",
   "metadata": {},
   "outputs": [],
   "source": []
  }
 ],
 "metadata": {
  "kernelspec": {
   "display_name": "Python 3 (ipykernel)",
   "language": "python",
   "name": "python3"
  },
  "language_info": {
   "codemirror_mode": {
    "name": "ipython",
    "version": 3
   },
   "file_extension": ".py",
   "mimetype": "text/x-python",
   "name": "python",
   "nbconvert_exporter": "python",
   "pygments_lexer": "ipython3",
   "version": "3.10.6"
  }
 },
 "nbformat": 4,
 "nbformat_minor": 5
}
