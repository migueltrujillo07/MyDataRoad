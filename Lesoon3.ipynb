{
 "cells": [
  {
   "cell_type": "markdown",
   "id": "93237251-3698-42c8-83fd-fc4334977d6e",
   "metadata": {},
   "source": [
    "# Python List Methods: Add and Delete an element"
   ]
  },
  {
   "cell_type": "code",
   "execution_count": 4,
   "id": "ccd73b03-f82c-490b-a972-7ea9616cb407",
   "metadata": {},
   "outputs": [
    {
     "name": "stdout",
     "output_type": "stream",
     "text": [
      "[7, 8]\n"
     ]
    }
   ],
   "source": [
    "list = []\n",
    "list.append(7)\n",
    "list.append(8) \n",
    "print(list)\n"
   ]
  },
  {
   "cell_type": "code",
   "execution_count": 10,
   "id": "f761bca8-3b6b-4656-b580-231d8f7e2c69",
   "metadata": {},
   "outputs": [
    {
     "name": "stdout",
     "output_type": "stream",
     "text": [
      "[7, 5]\n",
      "[7, 12, 5]\n",
      "2\n",
      "1\n"
     ]
    }
   ],
   "source": [
    "MySecondList = []\n",
    "MySecondList.append(7)\n",
    "MySecondList.append(5)\n",
    "print(MySecondList)\n",
    "MySecondList.insert(1,12)\n",
    "print(MySecondList)\n",
    "s = MySecondList.index(5)\n",
    "print(s)\n",
    "MySecondList.remove(12)\n",
    "s = MySecondList.index(5)\n",
    "print(s)\n"
   ]
  },
  {
   "cell_type": "markdown",
   "id": "9e0831b3-1417-46c8-a221-fc9c834d9fa1",
   "metadata": {},
   "source": [
    "# Diccionaries "
   ]
  },
  {
   "cell_type": "code",
   "execution_count": 13,
   "id": "f296002f-eb16-4d33-8797-2895db5a3385",
   "metadata": {},
   "outputs": [
    {
     "name": "stdout",
     "output_type": "stream",
     "text": [
      "34\n",
      "21\n"
     ]
    }
   ],
   "source": [
    "myDict = {\"Jenny\": 34, \"Livia\":28, \"Paul\":31}\n",
    "print(myDict[\"Jenny\"])\n",
    "myDict[\"jenny\"]= 21\n",
    "print(myDict[\"jenny\"])"
   ]
  },
  {
   "cell_type": "code",
   "execution_count": 15,
   "id": "e4c997ff-4fe1-4c6c-8857-c75b6851a7c9",
   "metadata": {},
   "outputs": [
    {
     "name": "stdout",
     "output_type": "stream",
     "text": [
      "32\n",
      "28\n",
      "20\n"
     ]
    }
   ],
   "source": [
    "Jenny = \"Jenny\"\n",
    "Livia = \"Livia\"\n",
    "Paul = \"Paul\"\n",
    "myDict2 = {Jenny: 32, Livia: 28, Paul: 20}\n",
    "print(myDict2[Jenny])\n",
    "print(myDict2[Livia])\n",
    "print(myDict2[Paul])"
   ]
  },
  {
   "cell_type": "code",
   "execution_count": 16,
   "id": "bc128c67-8055-49eb-bda0-d5ef63a21991",
   "metadata": {},
   "outputs": [
    {
     "name": "stdout",
     "output_type": "stream",
     "text": [
      "Business owner\n"
     ]
    }
   ],
   "source": [
    "professions = {}\n",
    "professions[\"Jeny\"]=\"Business owner\"\n",
    "print(professions[\"Jeny\"])"
   ]
  },
  {
   "cell_type": "code",
   "execution_count": null,
   "id": "dcf7c046-e144-4ac1-8029-d15545235fe4",
   "metadata": {},
   "outputs": [],
   "source": []
  }
 ],
 "metadata": {
  "kernelspec": {
   "display_name": "Python 3 (ipykernel)",
   "language": "python",
   "name": "python3"
  },
  "language_info": {
   "codemirror_mode": {
    "name": "ipython",
    "version": 3
   },
   "file_extension": ".py",
   "mimetype": "text/x-python",
   "name": "python",
   "nbconvert_exporter": "python",
   "pygments_lexer": "ipython3",
   "version": "3.10.6"
  }
 },
 "nbformat": 4,
 "nbformat_minor": 5
}
