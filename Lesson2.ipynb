{
 "cells": [
  {
   "cell_type": "markdown",
   "id": "77cc628b-abd1-47f8-bde7-a365ca819f8f",
   "metadata": {},
   "source": [
    "# Objects in Python"
   ]
  },
  {
   "cell_type": "markdown",
   "id": "2ca5e38c-8c8f-4e83-a635-3f65f3f0c8a1",
   "metadata": {},
   "source": [
    "Firts lets created a class in python\n"
   ]
  },
  {
   "cell_type": "code",
   "execution_count": 1,
   "id": "a30788a5-9096-49b6-aa69-3a8b40d7bb38",
   "metadata": {},
   "outputs": [],
   "source": [
    "class book:\n",
    "     def __init__(self,title,author, numberOfPages, publisher):\n",
    "            self.title = title\n",
    "            self.author = author\n",
    "            self.numberOfPages = numberOfPages\n",
    "            self.publisher = publisher"
   ]
  },
  {
   "cell_type": "code",
   "execution_count": 4,
   "id": "1249ba0c-0ef4-4bbf-a752-c332d6508c1d",
   "metadata": {},
   "outputs": [
    {
     "data": {
      "text/plain": [
       "<__main__.book at 0x7f5846ea2e90>"
      ]
     },
     "execution_count": 4,
     "metadata": {},
     "output_type": "execute_result"
    }
   ],
   "source": [
    "myBook = book(\"Percy Jackson\", \"Rick Riordan\", 450, \"Salamandra\")\n",
    "myBook"
   ]
  },
  {
   "cell_type": "code",
   "execution_count": null,
   "id": "664b822d-5bde-4528-aa2d-7320c7564b17",
   "metadata": {},
   "outputs": [],
   "source": []
  }
 ],
 "metadata": {
  "kernelspec": {
   "display_name": "Python 3 (ipykernel)",
   "language": "python",
   "name": "python3"
  },
  "language_info": {
   "codemirror_mode": {
    "name": "ipython",
    "version": 3
   },
   "file_extension": ".py",
   "mimetype": "text/x-python",
   "name": "python",
   "nbconvert_exporter": "python",
   "pygments_lexer": "ipython3",
   "version": "3.10.6"
  }
 },
 "nbformat": 4,
 "nbformat_minor": 5
}
