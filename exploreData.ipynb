{
 "cells": [
  {
   "cell_type": "markdown",
   "id": "8119afab-6cdc-4f5c-bcde-8632855bb534",
   "metadata": {},
   "source": [
    "# Explore Data With Numpy And Pandas\n",
    "\n",
    "NumPy is a Python library that provides functionality comparable to mathematical tools such as MATLAB and R. While NumPy significantly simplifies the user experience, it also offers comprehensive mathematical functions.\n",
    "\n",
    "Pandas is an extremely popular Python library for data analysis and manipulation. Pandas is like a spreadsheet application for Python—providing easy-to-use functionality for data tables."
   ]
  },
  {
   "cell_type": "markdown",
   "id": "cf272dbe-8ccd-45de-a681-3b1c4afb583e",
   "metadata": {},
   "source": [
    "## Testing Hypotheses\n",
    "\n",
    "- Clean data to handle errors, missing values, and other issues.\n",
    "- Apply statistical techniques to better understand the data and how the sample might be expected to represent the real-world population of data, allowing for random variation.\n",
    "- Visualize data to determine relationships between variables, and in the case of a machine learning project, identify features that are potentially predictive of the label.\n",
    "- Revise the hypothesis and repeat the process.\n"
   ]
  },
  {
   "cell_type": "markdown",
   "id": "37394605-3e4a-4381-ad99-4b5e729c4b39",
   "metadata": {
    "tags": []
   },
   "source": [
    "## Exploring Data Arrays With Numpy\n",
    "Running the code below\n"
   ]
  },
  {
   "cell_type": "code",
   "execution_count": 2,
   "id": "b233857f-697d-419b-8b81-aadb5bf1fad2",
   "metadata": {
    "tags": []
   },
   "outputs": [
    {
     "name": "stdout",
     "output_type": "stream",
     "text": [
      "[50, 50, 47, 97, 49, 3, 53, 42, 26, 74, 82, 62, 37, 15, 70, 27, 36, 35, 48, 52, 63, 64]\n"
     ]
    }
   ],
   "source": [
    "data = [50,50,47,97,49,3,53,42,26,74,82,62,37,15,70,27,36,35,48,52,63,64]\n",
    "print(data)"
   ]
  },
  {
   "cell_type": "markdown",
   "id": "6254ab8c-5e0d-45cf-9f88-76acf84df162",
   "metadata": {
    "tags": []
   },
   "source": [
    "The data has been loaded into a Python list structure, which is a good data type for general data manipulation, but it's not optimized for numeric analysis. For that, we're going to use the NumPy package, which includes specific data types and functions for working with Numbers in Python."
   ]
  },
  {
   "cell_type": "code",
   "execution_count": 6,
   "id": "59ae440d-656f-48be-acca-341912df0ba1",
   "metadata": {
    "tags": []
   },
   "outputs": [
    {
     "name": "stdout",
     "output_type": "stream",
     "text": [
      "[50 50 47 97 49  3 53 42 26 74 82 62 37 15 70 27 36 35 48 52 63 64]\n"
     ]
    }
   ],
   "source": [
    "import numpy as np\n",
    "\n",
    "grades = np.array(data)\n",
    "print(grades)"
   ]
  },
  {
   "cell_type": "code",
   "execution_count": 7,
   "id": "33e508e5-ea40-4464-bda6-30d543c8c05f",
   "metadata": {
    "tags": []
   },
   "outputs": [
    {
     "name": "stdout",
     "output_type": "stream",
     "text": [
      "<class 'list'> x 2: [50, 50, 47, 97, 49, 3, 53, 42, 26, 74, 82, 62, 37, 15, 70, 27, 36, 35, 48, 52, 63, 64, 50, 50, 47, 97, 49, 3, 53, 42, 26, 74, 82, 62, 37, 15, 70, 27, 36, 35, 48, 52, 63, 64]\n",
      "---\n",
      "<class 'numpy.ndarray'> x 2: [100 100  94 194  98   6 106  84  52 148 164 124  74  30 140  54  72  70\n",
      "  96 104 126 128]\n"
     ]
    }
   ],
   "source": [
    "print (type(data),'x 2:', data * 2)\n",
    "print('---')\n",
    "print (type(grades),'x 2:', grades * 2)\n"
   ]
  },
  {
   "cell_type": "markdown",
   "id": "712b48b3-b03c-4db4-ae4a-0e40742418b8",
   "metadata": {},
   "source": [
    "As you can see we can manipule in the first instruccion it prints twice the same seccuence.\n",
    "\n",
    "But in the second instruccion its printed each value multiplied by 2."
   ]
  },
  {
   "cell_type": "code",
   "execution_count": 8,
   "id": "d5a939f2-39d8-49ec-9bd0-0fc5a07c570a",
   "metadata": {
    "tags": []
   },
   "outputs": [
    {
     "data": {
      "text/plain": [
       "(22,)"
      ]
     },
     "execution_count": 8,
     "metadata": {},
     "output_type": "execute_result"
    }
   ],
   "source": [
    "grades.shape"
   ]
  },
  {
   "cell_type": "code",
   "execution_count": 9,
   "id": "95a404fb-bbd1-4e4a-ad09-b9a861ed09f2",
   "metadata": {},
   "outputs": [
    {
     "data": {
      "text/plain": [
       "50"
      ]
     },
     "execution_count": 9,
     "metadata": {},
     "output_type": "execute_result"
    }
   ],
   "source": [
    "grades[0]"
   ]
  },
  {
   "cell_type": "markdown",
   "id": "b29c992d-e6eb-4497-a843-15f50b939e81",
   "metadata": {},
   "source": [
    "You can apply aggregations across the elements in the array, so let's find the simple average grade (in other words, the mean grade value)."
   ]
  },
  {
   "cell_type": "code",
   "execution_count": 10,
   "id": "3d77ab3a-842b-4b40-bb09-5b7c2de4b0e9",
   "metadata": {
    "tags": []
   },
   "outputs": [
    {
     "data": {
      "text/plain": [
       "49.18181818181818"
      ]
     },
     "execution_count": 10,
     "metadata": {},
     "output_type": "execute_result"
    }
   ],
   "source": [
    "grades.mean()"
   ]
  },
  {
   "cell_type": "markdown",
   "id": "09e97400-dbf4-4f14-b745-d54d246080d1",
   "metadata": {},
   "source": [
    "Let's add a second set of data for the same students. This time, we'll record the typical number of hours per week they devoted to studying."
   ]
  },
  {
   "cell_type": "code",
   "execution_count": 11,
   "id": "10165f3a-25f7-43bc-8b67-052cc420eb11",
   "metadata": {
    "tags": []
   },
   "outputs": [
    {
     "data": {
      "text/plain": [
       "array([[10.  , 11.5 ,  9.  , 16.  ,  9.25,  1.  , 11.5 ,  9.  ,  8.5 ,\n",
       "        14.5 , 15.5 , 13.75,  9.  ,  8.  , 15.5 ,  8.  ,  9.  ,  6.  ,\n",
       "        10.  , 12.  , 12.5 , 12.  ],\n",
       "       [50.  , 50.  , 47.  , 97.  , 49.  ,  3.  , 53.  , 42.  , 26.  ,\n",
       "        74.  , 82.  , 62.  , 37.  , 15.  , 70.  , 27.  , 36.  , 35.  ,\n",
       "        48.  , 52.  , 63.  , 64.  ]])"
      ]
     },
     "execution_count": 11,
     "metadata": {},
     "output_type": "execute_result"
    }
   ],
   "source": [
    "# Define an array of study hours\n",
    "study_hours = [10.0,11.5,9.0,16.0,9.25,1.0,11.5,9.0,8.5,14.5,15.5,\n",
    "               13.75,9.0,8.0,15.5,8.0,9.0,6.0,10.0,12.0,12.5,12.0]\n",
    "\n",
    "# Create a 2D array (an array of arrays)\n",
    "student_data = np.array([study_hours, grades])\n",
    "\n",
    "# display the array\n",
    "student_data"
   ]
  },
  {
   "cell_type": "code",
   "execution_count": 12,
   "id": "0322ee41-a88e-4ca3-bb47-0cfeeb6aa6ff",
   "metadata": {
    "tags": []
   },
   "outputs": [
    {
     "data": {
      "text/plain": [
       "(2, 22)"
      ]
     },
     "execution_count": 12,
     "metadata": {},
     "output_type": "execute_result"
    }
   ],
   "source": [
    "student_data.shape"
   ]
  },
  {
   "cell_type": "markdown",
   "id": "4b9ad335-241b-4cc1-b6cd-7acd59209893",
   "metadata": {},
   "source": [
    "To navigate this structure, you need to specify the position of each element in the hierarchy. So to find the first value in the first array (which contains the study hours data), you can use the following code."
   ]
  },
  {
   "cell_type": "code",
   "execution_count": 13,
   "id": "c32af31f-80c5-4e19-8040-dd82982b80d2",
   "metadata": {
    "tags": []
   },
   "outputs": [
    {
     "data": {
      "text/plain": [
       "10.0"
      ]
     },
     "execution_count": 13,
     "metadata": {},
     "output_type": "execute_result"
    }
   ],
   "source": [
    "student_data[0][0]"
   ]
  },
  {
   "cell_type": "code",
   "execution_count": 16,
   "id": "13e0680a-9148-4697-a248-ce9c552393a3",
   "metadata": {
    "tags": []
   },
   "outputs": [
    {
     "name": "stdout",
     "output_type": "stream",
     "text": [
      "Average study hours: 1.1e+01\n",
      "Average grade: 49.18\n"
     ]
    }
   ],
   "source": [
    "# Get the mean value of each sub-array\n",
    "avg_study = student_data[0].mean()\n",
    "avg_grade = student_data[1].mean()\n",
    "print(\"Average study hours: {:.2}\\nAverage grade: {:.2f}\".format(avg_study,avg_grade))"
   ]
  },
  {
   "cell_type": "markdown",
   "id": "2df1dc72-8248-41b7-9262-5b168769641a",
   "metadata": {},
   "source": [
    "## Exploring tabular data with Pandas\n",
    "\n",
    "NumPy provides a lot of the functionality and tools you need to work with numbers, such as arrays of numeric values. However, when you start to deal with two-dimensional tables of data, the Pandas package offers a more convenient structure to work with: the DataFrame.\n"
   ]
  },
  {
   "cell_type": "code",
   "execution_count": null,
   "id": "27fe1a11-ddd7-428f-b5c1-f870727318d0",
   "metadata": {},
   "outputs": [],
   "source": [
    "impor"
   ]
  }
 ],
 "metadata": {
  "kernelspec": {
   "display_name": "Python 3 (ipykernel)",
   "language": "python",
   "name": "python3"
  },
  "language_info": {
   "codemirror_mode": {
    "name": "ipython",
    "version": 3
   },
   "file_extension": ".py",
   "mimetype": "text/x-python",
   "name": "python",
   "nbconvert_exporter": "python",
   "pygments_lexer": "ipython3",
   "version": "3.10.6"
  }
 },
 "nbformat": 4,
 "nbformat_minor": 5
}
