{
 "cells": [
  {
   "cell_type": "markdown",
   "id": "8119afab-6cdc-4f5c-bcde-8632855bb534",
   "metadata": {},
   "source": [
    "# Explore Data With Numpy And Pandas\n",
    "\n",
    "NumPy is a Python library that provides functionality comparable to mathematical tools such as MATLAB and R. While NumPy significantly simplifies the user experience, it also offers comprehensive mathematical functions.\n",
    "\n",
    "Pandas is an extremely popular Python library for data analysis and manipulation. Pandas is like a spreadsheet application for Python—providing easy-to-use functionality for data tables."
   ]
  },
  {
   "cell_type": "code",
   "execution_count": null,
   "id": "f693b1f5-f0cb-4879-a63e-0595fb61703d",
   "metadata": {},
   "outputs": [],
   "source": []
  }
 ],
 "metadata": {
  "kernelspec": {
   "display_name": "Python 3 (ipykernel)",
   "language": "python",
   "name": "python3"
  },
  "language_info": {
   "codemirror_mode": {
    "name": "ipython",
    "version": 3
   },
   "file_extension": ".py",
   "mimetype": "text/x-python",
   "name": "python",
   "nbconvert_exporter": "python",
   "pygments_lexer": "ipython3",
   "version": "3.10.6"
  }
 },
 "nbformat": 4,
 "nbformat_minor": 5
}
